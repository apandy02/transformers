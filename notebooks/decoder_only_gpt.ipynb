{
 "cells": [
  {
   "cell_type": "markdown",
   "metadata": {},
   "source": [
    "# Decoder-only based GPT (language model)\n",
    "\n",
    "Here we take a transformer block, the decoder in particular, and use it for the task of language modeling. In general, this is how GPTs are trained. We will do this on a much smaller scale.\n",
    "\n",
    "We take everything we've already built and leverage it in the way Karpathy implements a character level LM here: "
   ]
  },
  {
   "cell_type": "code",
   "execution_count": 80,
   "metadata": {},
   "outputs": [],
   "source": [
    "import torch\n",
    "from torch.utils.data import random_split\n",
    "import sys \n",
    "sys.path.append(\"../models\")\n",
    "import tiktoken"
   ]
  },
  {
   "cell_type": "code",
   "execution_count": 81,
   "metadata": {},
   "outputs": [
    {
     "name": "stdout",
     "output_type": "stream",
     "text": [
      "2652650\n"
     ]
    }
   ],
   "source": [
    "harry_potter_text = \" \"\n",
    "for i in range(4):\n",
    "    book_num = i+1\n",
    "    with open(f'../data/hp{book_num}.txt', 'r', encoding='utf-8') as f:\n",
    "        harry_potter_text += f.read()\n",
    "print(len(harry_potter_text))"
   ]
  },
  {
   "cell_type": "markdown",
   "metadata": {},
   "source": [
    "## Tokenization\n",
    "Instead of character level, we're going to model this LM using a tokenizer. in particular, we're going to try to use OpenAI's tiktoken with the gpt2 50k tokenizer. This might end up being too large of a vocab size given compute constraints, but"
   ]
  },
  {
   "cell_type": "code",
   "execution_count": 82,
   "metadata": {},
   "outputs": [],
   "source": [
    "enc = tiktoken.get_encoding(\"gpt2\")"
   ]
  },
  {
   "cell_type": "code",
   "execution_count": 83,
   "metadata": {},
   "outputs": [],
   "source": [
    "encoder = enc.encode\n",
    "decoder = enc.decode"
   ]
  },
  {
   "cell_type": "code",
   "execution_count": 84,
   "metadata": {},
   "outputs": [],
   "source": [
    "token_example = encoder(\"hello world test tiktokenizer\")"
   ]
  },
  {
   "cell_type": "code",
   "execution_count": 85,
   "metadata": {},
   "outputs": [
    {
     "data": {
      "text/plain": [
       "'izer'"
      ]
     },
     "execution_count": 85,
     "metadata": {},
     "output_type": "execute_result"
    }
   ],
   "source": [
    "decoded = decoder([token_example[-1]])\n",
    "decoded"
   ]
  },
  {
   "cell_type": "code",
   "execution_count": 86,
   "metadata": {},
   "outputs": [
    {
     "name": "stdout",
     "output_type": "stream",
     "text": [
      "torch.Size([683899]) torch.int64\n"
     ]
    }
   ],
   "source": [
    "dataset = torch.tensor(encoder(harry_potter_text), dtype=torch.long)\n",
    "print(dataset.shape, dataset.dtype)"
   ]
  },
  {
   "cell_type": "code",
   "execution_count": 90,
   "metadata": {},
   "outputs": [],
   "source": [
    "train_val_size = int(len(dataset) * 0.9)  \n",
    "test_size = len(dataset) - train_val_size\n",
    "train_val_data, test_data = random_split(dataset, [train_val_size, test_size])\n",
    "\n",
    "train_size = int(len(train_val_data) * 0.9)  \n",
    "val_size = len(train_val_data) - train_size\n",
    "train_data, val_data = random_split(train_val_data, [train_size, val_size])"
   ]
  },
  {
   "cell_type": "code",
   "execution_count": 91,
   "metadata": {},
   "outputs": [
    {
     "data": {
      "text/plain": [
       "50257"
      ]
     },
     "execution_count": 91,
     "metadata": {},
     "output_type": "execute_result"
    }
   ],
   "source": [
    "enc.n_vocab"
   ]
  },
  {
   "cell_type": "code",
   "execution_count": 92,
   "metadata": {},
   "outputs": [
    {
     "name": "stdout",
     "output_type": "stream",
     "text": [
      "train set size: 553958, test: 68390, val: 61551\n"
     ]
    }
   ],
   "source": [
    "print(f\"train set size: {train_size}, test: {test_size}, val: {val_size}\")"
   ]
  },
  {
   "cell_type": "code",
   "execution_count": 104,
   "metadata": {},
   "outputs": [
    {
     "name": "stdout",
     "output_type": "stream",
     "text": [
      "torch.Size([8, 8]) torch.Size([8, 8])\n",
      "when input is [2034, 287] the target: 470\n"
     ]
    }
   ],
   "source": [
    "torch.manual_seed(10000)\n",
    "batch_size = 8 # how many independent sequences will we process in parallel?\n",
    "block_size = 8 # what is the maximum context length for predictions?\n",
    "\n",
    "def get_batch(data):\n",
    "    ix = torch.randint(len(data) - block_size, (batch_size,))\n",
    "    x = torch.stack([data[i:i+block_size] for i in ix])\n",
    "    y = torch.stack([data[i+1:i+block_size+1] for i in ix])  # for any sequence x, the target y will be the next 8 tokens\n",
    "    return x, y\n",
    "\n",
    "xb, yb = get_batch(train_data)\n",
    "\n",
    "print(xb.shape, yb.shape)\n",
    "\n",
    "context = xb[0, :2]\n",
    "target = yb[0,1]\n",
    "print(f\"when input is {context.tolist()} the target: {target}\")"
   ]
  }
 ],
 "metadata": {
  "kernelspec": {
   "display_name": "ml_accel",
   "language": "python",
   "name": "python3"
  },
  "language_info": {
   "codemirror_mode": {
    "name": "ipython",
    "version": 3
   },
   "file_extension": ".py",
   "mimetype": "text/x-python",
   "name": "python",
   "nbconvert_exporter": "python",
   "pygments_lexer": "ipython3",
   "version": "3.9.1"
  },
  "orig_nbformat": 4
 },
 "nbformat": 4,
 "nbformat_minor": 2
}
