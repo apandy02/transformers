{
  "cells": [
    {
      "cell_type": "markdown",
      "metadata": {
        "id": "view-in-github",
        "colab_type": "text"
      },
      "source": [
        "<a href=\"https://colab.research.google.com/github/aryamanpandya99/Transformers/blob/main/notebooks/decoder_only_gpt.ipynb\" target=\"_parent\"><img src=\"https://colab.research.google.com/assets/colab-badge.svg\" alt=\"Open In Colab\"/></a>"
      ]
    },
    {
      "cell_type": "markdown",
      "metadata": {
        "id": "x7GuoX-D2SUi"
      },
      "source": [
        "# Decoder-only based GPT (language model)\n",
        "\n",
        "Here we take a transformer block, the decoder in particular, and use it for the task of language modeling. In general, this is how GPTs are trained. We will do this on a much smaller scale.\n",
        "\n",
        "We take everything we've already built and leverage it in the way Karpathy implements a character level LM here:"
      ]
    },
    {
      "cell_type": "code",
      "execution_count": 1,
      "metadata": {
        "colab": {
          "base_uri": "https://localhost:8080/"
        },
        "id": "6ptBhD9c3kTU",
        "outputId": "ccc96f18-0525-41cd-e754-4b56db5f364a"
      },
      "outputs": [
        {
          "output_type": "stream",
          "name": "stdout",
          "text": [
            "Mounted at /content/drive\n"
          ]
        }
      ],
      "source": [
        "from google.colab import drive\n",
        "drive.mount('/content/drive')"
      ]
    },
    {
      "cell_type": "code",
      "execution_count": 2,
      "metadata": {
        "id": "DAnCCtxa3i6o"
      },
      "outputs": [],
      "source": [
        "!cp drive/MyDrive/Transformers/models/transformer_blocks.py .\n",
        "!cp drive/MyDrive/Transformers/models/modules.py .\n",
        "!cp -r drive/MyDrive/Transformers/data/ ."
      ]
    },
    {
      "cell_type": "code",
      "execution_count": 3,
      "metadata": {
        "colab": {
          "base_uri": "https://localhost:8080/"
        },
        "id": "U_XqFHTe4Ozn",
        "outputId": "382908cd-42e5-4009-ed83-ff51a07ceef2"
      },
      "outputs": [
        {
          "output_type": "stream",
          "name": "stdout",
          "text": [
            "Collecting tokenmonster\n",
            "  Downloading tokenmonster-1.1.12.tar.gz (17 kB)\n",
            "  Preparing metadata (setup.py) ... \u001b[?25l\u001b[?25hdone\n",
            "Building wheels for collected packages: tokenmonster\n",
            "  Building wheel for tokenmonster (setup.py) ... \u001b[?25l\u001b[?25hdone\n",
            "  Created wheel for tokenmonster: filename=tokenmonster-1.1.12-py3-none-any.whl size=15820 sha256=34e54f2705641c312fda0432046807b3bd397e20ba8b7afca822e3d3ab5e81fd\n",
            "  Stored in directory: /root/.cache/pip/wheels/aa/49/56/9db5eb8fd22ea838f03cc48cc4e096d0f1e810dff3e4559abe\n",
            "Successfully built tokenmonster\n",
            "Installing collected packages: tokenmonster\n",
            "Successfully installed tokenmonster-1.1.12\n"
          ]
        }
      ],
      "source": [
        "!pip install tokenmonster"
      ]
    },
    {
      "cell_type": "code",
      "execution_count": 4,
      "metadata": {
        "id": "p0LzXILI2SUk"
      },
      "outputs": [],
      "source": [
        "import torch\n",
        "from torch import nn\n",
        "import numpy as np\n",
        "from torch.utils.data import random_split\n",
        "import sys\n",
        "sys.path.append(\"~/\")\n",
        "from transformer_blocks import Transformer\n",
        "from torch.utils.data import Dataset, DataLoader\n",
        "import tokenmonster"
      ]
    },
    {
      "cell_type": "code",
      "execution_count": 5,
      "metadata": {
        "colab": {
          "base_uri": "https://localhost:8080/"
        },
        "id": "UP_BMiE52SUl",
        "outputId": "0b1c273e-b0bb-46cd-a0ff-feab950a4728"
      },
      "outputs": [
        {
          "output_type": "stream",
          "name": "stdout",
          "text": [
            "2652650\n"
          ]
        }
      ],
      "source": [
        "harry_potter_text = \" \"\n",
        "for i in range(4):\n",
        "    book_num = i+1\n",
        "    with open(f'/content/data/hp{book_num}.txt', 'r', encoding='utf-8') as f:\n",
        "        harry_potter_text += f.read()\n",
        "print(len(harry_potter_text))"
      ]
    },
    {
      "cell_type": "markdown",
      "metadata": {
        "id": "FTW6wJWB2SUl"
      },
      "source": []
    },
    {
      "cell_type": "markdown",
      "metadata": {
        "id": "8WTsFKtP2SUm"
      },
      "source": [
        "## Tokenization\n",
        "Instead of character level, we're going to model this LM using a tokenizer. in particular, we're going to try to use OpenAI's tiktoken with the gpt2 50k tokenizer. This might end up being too large of a vocab size given compute constraints, but"
      ]
    },
    {
      "cell_type": "code",
      "execution_count": 6,
      "metadata": {
        "id": "jNAlYTIf2SUm"
      },
      "outputs": [],
      "source": [
        "vocab = tokenmonster.load(\"fiction-2048-consistent-v1\")\n",
        "tokens = vocab.tokenize(\"This is a test.\")"
      ]
    },
    {
      "cell_type": "code",
      "execution_count": 7,
      "metadata": {
        "colab": {
          "base_uri": "https://localhost:8080/"
        },
        "id": "ya_OlheL2SUm",
        "outputId": "a1a83d44-643e-4d0d-851b-da6b1a64f741"
      },
      "outputs": [
        {
          "output_type": "execute_result",
          "data": {
            "text/plain": [
              "array([ 149, 1674,  110,  374,  233,   17], dtype=uint16)"
            ]
          },
          "metadata": {},
          "execution_count": 7
        }
      ],
      "source": [
        "tokens"
      ]
    },
    {
      "cell_type": "code",
      "execution_count": 8,
      "metadata": {
        "id": "nZ0pfOIT2SUm"
      },
      "outputs": [],
      "source": [
        "token_example = vocab.tokenize(\"hello world test monster tokenizer\")"
      ]
    },
    {
      "cell_type": "code",
      "execution_count": 9,
      "metadata": {
        "colab": {
          "base_uri": "https://localhost:8080/"
        },
        "id": "y1y5eYUD2SUn",
        "outputId": "024cabbb-5c14-438f-b854-6015378d8caa"
      },
      "outputs": [
        {
          "output_type": "execute_result",
          "data": {
            "text/plain": [
              "array([  37,  586,  196, 1261,  374,  233,  627,  773,  377,   37,  601,\n",
              "         53,  252,   62], dtype=uint16)"
            ]
          },
          "metadata": {},
          "execution_count": 9
        }
      ],
      "source": [
        "token_example"
      ]
    },
    {
      "cell_type": "code",
      "execution_count": 10,
      "metadata": {
        "colab": {
          "base_uri": "https://localhost:8080/"
        },
        "id": "-qyadxmt2SUn",
        "outputId": "e69a509f-2343-4ce0-d4e4-ae91b9e2cd12"
      },
      "outputs": [
        {
          "output_type": "execute_result",
          "data": {
            "text/plain": [
              "['',\n",
              " ' hel',\n",
              " 'lo',\n",
              " ' world',\n",
              " ' te',\n",
              " 'st',\n",
              " ' mon',\n",
              " 'ster',\n",
              " ' to',\n",
              " '',\n",
              " ' ken',\n",
              " 'i',\n",
              " 'ze',\n",
              " 'r']"
            ]
          },
          "metadata": {},
          "execution_count": 10
        }
      ],
      "source": [
        "[vocab.decode([token]) for token in token_example]"
      ]
    },
    {
      "cell_type": "code",
      "execution_count": 11,
      "metadata": {
        "id": "2ks4lD6p2SUn"
      },
      "outputs": [],
      "source": [
        "tokens = np.array(vocab.tokenize(harry_potter_text), dtype=np.float16)"
      ]
    },
    {
      "cell_type": "code",
      "execution_count": 12,
      "metadata": {
        "colab": {
          "base_uri": "https://localhost:8080/"
        },
        "id": "WH_4N1qN2SUn",
        "outputId": "13d0fe97-018f-4c5c-c024-ffe3ea6d147e"
      },
      "outputs": [
        {
          "output_type": "stream",
          "name": "stdout",
          "text": [
            "torch.Size([900724]) torch.int64\n"
          ]
        }
      ],
      "source": [
        "dataset = torch.tensor(tokens, dtype=torch.long)\n",
        "print(dataset.shape, dataset.dtype)"
      ]
    },
    {
      "cell_type": "code",
      "execution_count": 13,
      "metadata": {
        "colab": {
          "base_uri": "https://localhost:8080/"
        },
        "id": "RbbeNPTF2SUo",
        "outputId": "d83c5912-8c13-4eff-bbf2-e66f6bdb949e"
      },
      "outputs": [
        {
          "output_type": "stream",
          "name": "stdout",
          "text": [
            " Harry Potter and the Sorcerer's Stone\n",
            "\n",
            "\n",
            "CHAPTER ONE\n",
            "\n",
            "THE BOY WHO LIVED\n",
            "\n",
            "Mr. and Mrs. Dursley, of number four, Privet Drive, were proud to say\n",
            "that they were perfectly normal, thank you very much. They were the last\n",
            "people you'd expect to be involved in anything strange or mysterious,\n",
            "because they just didn't hold with such no\n",
            "train set size: 720553, test: 90069, val: 90070, data size: 900724, dataset_size: 900692\n"
          ]
        }
      ],
      "source": [
        "class HPDataset(Dataset):\n",
        "    def __init__(self, data, block_size):\n",
        "        self.data = data\n",
        "        self.block_size = block_size\n",
        "\n",
        "    def __len__(self):\n",
        "        # Return the total number of possible sequences\n",
        "        return len(self.data) - self.block_size\n",
        "\n",
        "    def __getitem__(self, idx):\n",
        "        # Fetch a single sequence x and its corresponding target y\n",
        "        x = self.data[idx:idx + self.block_size]\n",
        "        y = self.data[idx + 1:idx + self.block_size + 1]\n",
        "        return x, y\n",
        "\n",
        "BLOCK_SIZE = 32\n",
        "hp_data = HPDataset(dataset, BLOCK_SIZE)\n",
        "\n",
        "test_block = torch.tensor([dataset[i] for i in range(100)])\n",
        "test_list = test_block.tolist()\n",
        "print(vocab.decode(test_list))\n",
        "\n",
        "train_size = int(len(hp_data) * 0.8)\n",
        "test_size = int(len(hp_data) * 0.1)\n",
        "val_size = len(hp_data) - train_size - test_size\n",
        "\n",
        "print(f\"train set size: {train_size}, test: {test_size}, val: {val_size}, data size: {len(dataset)}, dataset_size: {hp_data.__len__()}\")\n",
        "\n",
        "train_dataset, val_dataset, test_dataset = random_split(hp_data, [train_size, val_size, test_size])\n",
        "\n",
        "batch_size = 64\n",
        "train_loader, val_loader, test_loader = DataLoader(train_dataset, batch_size=batch_size, shuffle=True), DataLoader(val_dataset, batch_size=batch_size, shuffle=True), DataLoader(test_dataset, batch_size=batch_size, shuffle=True)"
      ]
    },
    {
      "cell_type": "code",
      "execution_count": 14,
      "metadata": {
        "colab": {
          "base_uri": "https://localhost:8080/"
        },
        "id": "H9AWjLIa2SUo",
        "outputId": "2c1007ae-473a-42e6-f232-51440d48f2f0"
      },
      "outputs": [
        {
          "output_type": "stream",
          "name": "stdout",
          "text": [
            "11259\n",
            "1408\n",
            "1408\n"
          ]
        }
      ],
      "source": [
        "print(len(train_loader))\n",
        "print(len(test_loader))\n",
        "print(len(val_loader))"
      ]
    },
    {
      "cell_type": "code",
      "execution_count": 15,
      "metadata": {
        "colab": {
          "base_uri": "https://localhost:8080/"
        },
        "id": "M5k9W9isInum",
        "outputId": "b8df0e32-cc73-4aaa-8d04-eb6cf63a7eec"
      },
      "outputs": [
        {
          "output_type": "stream",
          "name": "stdout",
          "text": [
            "(tensor([ 582,  226,  352,  745,  699,  677,  764,   15,  366,   56,  478,   69,\n",
            "         532,  237, 1622, 1110,  143, 1387, 1657,  377,  103,  699, 1236,   15,\n",
            "         903,  386,  472,  389,  477,  883,  617,  172]), tensor([ 226,  352,  745,  699,  677,  764,   15,  366,   56,  478,   69,  532,\n",
            "         237, 1622, 1110,  143, 1387, 1657,  377,  103,  699, 1236,   15,  903,\n",
            "         386,  472,  389,  477,  883,  617,  172,  181]))\n"
          ]
        }
      ],
      "source": [
        "print(train_dataset.__getitem__(0))"
      ]
    },
    {
      "cell_type": "code",
      "execution_count": 16,
      "metadata": {
        "id": "9D0dkIBU2SUo"
      },
      "outputs": [],
      "source": [
        "class rowlingGPT(nn.Module):\n",
        "    \"\"\"\n",
        "    JK Rowling would probably not approve\n",
        "    \"\"\"\n",
        "    def __init__(self, d_k, d_model, d_v, d_ff, num_heads, num_layers, vocab_size, dropout=0.1) -> None:\n",
        "        super().__init__()\n",
        "        self.decoder_transformer = Transformer(d_k, d_model, d_v, d_ff, num_heads, num_layers, vocab_size=vocab_size, mask=True, dropout=dropout)\n",
        "        self.dropout = nn.Dropout(dropout)\n",
        "        self.layer_norm = nn.LayerNorm(d_model)\n",
        "        self.fc = nn.Linear(d_model, vocab_size)\n",
        "\n",
        "    def forward(self, x):\n",
        "        out = self.decoder_transformer(x)\n",
        "        return self.fc(self.layer_norm(out))"
      ]
    },
    {
      "cell_type": "code",
      "execution_count": 17,
      "metadata": {
        "id": "oHC-Secr2SUo"
      },
      "outputs": [],
      "source": [
        "def compute_loss(y_target, y_pred, loss_function):\n",
        "    B, T, C = y_pred.shape\n",
        "    y_pred = y_pred.view(B*T, C)\n",
        "    _, max_indices = torch.max(y_pred, dim=1)\n",
        "    y_target_list = y_target.tolist()\n",
        "    max_indices = max_indices.tolist()\n",
        "    y_target = y_target.view(B*T)\n",
        "    return loss_function(y_pred, y_target)"
      ]
    },
    {
      "cell_type": "code",
      "execution_count": 18,
      "metadata": {
        "id": "5Pc9PN-Hnrv-"
      },
      "outputs": [],
      "source": [
        "def generate(model, prompt: str, device,n = 50, block_size=BLOCK_SIZE):\n",
        "  prompt_array = vocab.tokenize(prompt)\n",
        "  print(prompt_array.shape)\n",
        "  prompt_array = np.array(prompt_array[:block_size], dtype=np.int16)\n",
        "  print(prompt_array.shape)\n",
        "  print(prompt_array.tolist())\n",
        "  decoded = vocab.decode(prompt_array)\n",
        "  print(f\"prompt: {decoded}\")\n",
        "  cumulative_array = prompt_array\n",
        "  for i in range(n):\n",
        "    prompt_tensor = torch.tensor(prompt_array, dtype=torch.long).to(device)\n",
        "    next_token = predict_next_token(model, prompt_tensor.unsqueeze(0))\n",
        "    next_token_np = next_token.cpu().numpy().flatten()\n",
        "    cumulative_array = np.append(cumulative_array, next_token_np)\n",
        "    prompt_array = np.append(prompt_array[1:], next_token_np)\n",
        "    test_list = cumulative_array.tolist()\n",
        "    print(vocab.decode(test_list))"
      ]
    },
    {
      "cell_type": "code",
      "execution_count": 19,
      "metadata": {
        "id": "XQ7fkR1zJlI4"
      },
      "outputs": [],
      "source": [
        "def predict_next_token(model, block):\n",
        "  with torch.no_grad():\n",
        "    y_pred = model(block)\n",
        "    token_probs = nn.functional.softmax(y_pred, dim=-1)\n",
        "    _, max_idx = torch.max(token_probs, dim=-1)\n",
        "  return max_idx.squeeze()[-1]  # return only the last next token prediction"
      ]
    },
    {
      "cell_type": "code",
      "execution_count": 20,
      "metadata": {
        "id": "W2wS6j8Y2SUo"
      },
      "outputs": [],
      "source": [
        "def train(model, train_loader, val_loader, loss_function, optim, epochs, device):\n",
        "    losses = [] #group losses for loss visualization\n",
        "    running_loss = 0.0\n",
        "    val_losses = []\n",
        "    for epoch in range(epochs):\n",
        "        model.train()\n",
        "        print(\"Epoch %d / %d\" % (epoch+1, epochs))\n",
        "        print(\"-\"*10)\n",
        "\n",
        "        for i, batch_data in enumerate(train_loader):\n",
        "            x, y = batch_data\n",
        "            x, y = x.to(device), y.to(device)\n",
        "            y_pred = model(x)\n",
        "\n",
        "            loss = compute_loss(y, y_pred, loss_function)\n",
        "            optim.zero_grad()\n",
        "            loss.backward()\n",
        "            optim.step()\n",
        "            running_loss += loss.item()\n",
        "            losses.append(loss)\n",
        "\n",
        "            if (i+1) % 1000 == 0:\n",
        "                print(\"Step: {}, average training loss over last 1000 steps: {:.4f}\".format(i+1, running_loss/1000))\n",
        "                running_loss = 0.0\n",
        "\n",
        "        model.eval()\n",
        "        val_loss = 0.0\n",
        "        with torch.no_grad():\n",
        "            correct_pred = 0.0\n",
        "            num_samples = 0\n",
        "            for i, batch_data in enumerate(val_loader):\n",
        "                (y, x) = batch_data\n",
        "                y, x = y.to(device), x.to(device)\n",
        "                y_pred = model(x)\n",
        "                loss = compute_loss(y, y_pred, loss_function)\n",
        "                _, predicted_labels = torch.max(y_pred, 1)\n",
        "                num_samples+=predicted_labels.shape[0]\n",
        "                val_loss += loss.item()\n",
        "\n",
        "            val_losses.append(val_loss)\n",
        "        print(\"Epoch: {}, validation loss: {:.4f}\".format(epoch+1, val_loss/len(val_loader)))\n",
        "        print(\"Generated text: \")\n",
        "        generate(model, \"Harry\", device=DEVICE, n=20)\n",
        "\n",
        "    return losses, val_losses"
      ]
    },
    {
      "cell_type": "code",
      "execution_count": 21,
      "metadata": {
        "id": "yj_S3bSm2SUo"
      },
      "outputs": [],
      "source": [
        "LEARNING_RATE = 6e-4\n",
        "NUM_EPOCHS = 10\n",
        "DROPOUT = 0.1\n",
        "D_MODEL = 1024\n",
        "NUM_HEADS = 8\n",
        "D_K = int(D_MODEL / NUM_HEADS)\n",
        "D_V = D_K\n",
        "D_FF = D_MODEL * 4\n",
        "NUM_LAYERS = 2\n",
        "VOCAB_SIZE = vocab.vocab_size\n",
        "DEVICE = torch.device('cuda:0' if torch.cuda.is_available() else 'cpu')"
      ]
    },
    {
      "cell_type": "code",
      "execution_count": 22,
      "metadata": {
        "id": "f314V3J12SUo"
      },
      "outputs": [],
      "source": [
        "model = rowlingGPT(D_K, D_MODEL, D_V, D_FF, num_heads=NUM_HEADS, num_layers=NUM_LAYERS, vocab_size=VOCAB_SIZE)\n",
        "model = model.to(DEVICE)"
      ]
    },
    {
      "cell_type": "code",
      "execution_count": 23,
      "metadata": {
        "id": "iqdfCB9C2SUo"
      },
      "outputs": [],
      "source": [
        "optimizer = torch.optim.AdamW(model.parameters(), lr=LEARNING_RATE)"
      ]
    },
    {
      "cell_type": "code",
      "execution_count": 24,
      "metadata": {
        "colab": {
          "base_uri": "https://localhost:8080/"
        },
        "id": "bWmZ65uO6XhP",
        "outputId": "58001095-b80f-487d-8af4-06a44ba7c666"
      },
      "outputs": [
        {
          "output_type": "execute_result",
          "data": {
            "text/plain": [
              "device(type='cuda', index=0)"
            ]
          },
          "metadata": {},
          "execution_count": 24
        }
      ],
      "source": [
        "DEVICE"
      ]
    },
    {
      "cell_type": "code",
      "execution_count": 25,
      "metadata": {
        "colab": {
          "base_uri": "https://localhost:8080/"
        },
        "id": "RxStEdDG2SUp",
        "outputId": "7d05516e-e22d-4067-a056-70e03f9b82df"
      },
      "outputs": [
        {
          "output_type": "stream",
          "name": "stdout",
          "text": [
            "Epoch 1 / 10\n",
            "----------\n",
            "Step: 1000, average training loss over last 1000 steps: 4.5436\n",
            "Step: 2000, average training loss over last 1000 steps: 4.1284\n",
            "Step: 3000, average training loss over last 1000 steps: 4.0250\n",
            "Step: 4000, average training loss over last 1000 steps: 3.9691\n",
            "Step: 5000, average training loss over last 1000 steps: 3.9244\n",
            "Step: 6000, average training loss over last 1000 steps: 3.8923\n",
            "Step: 7000, average training loss over last 1000 steps: 3.8634\n",
            "Step: 8000, average training loss over last 1000 steps: 3.8425\n",
            "Step: 9000, average training loss over last 1000 steps: 3.8232\n",
            "Step: 10000, average training loss over last 1000 steps: 3.8010\n",
            "Step: 11000, average training loss over last 1000 steps: 3.7865\n",
            "Epoch: 1, validation loss: 9.1816\n",
            "Generated text: \n",
            "(3,)\n",
            "(3,)\n",
            "[149, 582, 226]\n",
            "prompt: Harry\n",
            "Harry,\n",
            "Harry, and\n",
            "Harry, and\n",
            "Harry, and Her\n",
            "Harry, and Her\n",
            "Harry, and Hermi\n",
            "Harry, and Hermi\n",
            "Harry, and Hermione\n",
            "Harry, and Hermione,\n",
            "Harry, and Hermione, and\n",
            "Harry, and Hermione, and\n",
            "Harry, and Hermione, and Her\n",
            "Harry, and Hermione, and Her\n",
            "Harry, and Hermione, and Hermi\n",
            "Harry, and Hermione, and Hermi\n",
            "Harry, and Hermione, and Hermione\n",
            "Harry, and Hermione, and Hermione,\n",
            "Harry, and Hermione, and Hermione, and\n",
            "Harry, and Hermione, and Hermione, and\n",
            "Harry, and Hermione, and Hermione, and Her\n",
            "Epoch 2 / 10\n",
            "----------\n",
            "Step: 1000, average training loss over last 1000 steps: 4.7387\n",
            "Step: 2000, average training loss over last 1000 steps: 3.7479\n",
            "Step: 3000, average training loss over last 1000 steps: 3.7300\n",
            "Step: 4000, average training loss over last 1000 steps: 3.7217\n",
            "Step: 5000, average training loss over last 1000 steps: 3.7134\n",
            "Step: 6000, average training loss over last 1000 steps: 3.6990\n",
            "Step: 7000, average training loss over last 1000 steps: 3.6892\n",
            "Step: 8000, average training loss over last 1000 steps: 3.6754\n",
            "Step: 9000, average training loss over last 1000 steps: 3.6679\n",
            "Step: 10000, average training loss over last 1000 steps: 3.6609\n",
            "Step: 11000, average training loss over last 1000 steps: 3.6532\n",
            "Epoch: 2, validation loss: 9.3640\n",
            "Generated text: \n",
            "(3,)\n",
            "(3,)\n",
            "[149, 582, 226]\n",
            "prompt: Harry\n",
            "Harry,\n",
            "Harry, and\n",
            "Harry, and\n",
            "Harry, and Har\n",
            "Harry, and Harry\n",
            "Harry, and Harry's\n",
            "Harry, and Harry's ro\n",
            "Harry, and Harry's ron\n",
            "Harry, and Harry's ron,\n",
            "Harry, and Harry's ron, and\n",
            "Harry, and Harry's ron, and\n",
            "Harry, and Harry's ron, and Her\n",
            "Harry, and Harry's ron, and Her\n",
            "Harry, and Harry's ron, and Hermi\n",
            "Harry, and Harry's ron, and Hermi\n",
            "Harry, and Harry's ron, and Hermione\n",
            "Harry, and Harry's ron, and Hermione,\n",
            "Harry, and Harry's ron, and Hermione, and\n",
            "Harry, and Harry's ron, and Hermione, and\n",
            "Harry, and Harry's ron, and Hermione, and Her\n",
            "Epoch 3 / 10\n",
            "----------\n",
            "Step: 1000, average training loss over last 1000 steps: 4.5748\n",
            "Step: 2000, average training loss over last 1000 steps: 3.6284\n",
            "Step: 3000, average training loss over last 1000 steps: 3.6185\n",
            "Step: 4000, average training loss over last 1000 steps: 3.6182\n",
            "Step: 5000, average training loss over last 1000 steps: 3.6060\n",
            "Step: 6000, average training loss over last 1000 steps: 3.5989\n",
            "Step: 7000, average training loss over last 1000 steps: 3.5904\n",
            "Step: 8000, average training loss over last 1000 steps: 3.5840\n",
            "Step: 9000, average training loss over last 1000 steps: 3.5750\n",
            "Step: 10000, average training loss over last 1000 steps: 3.5713\n",
            "Step: 11000, average training loss over last 1000 steps: 3.5634\n",
            "Epoch: 3, validation loss: 9.4534\n",
            "Generated text: \n",
            "(3,)\n",
            "(3,)\n",
            "[149, 582, 226]\n",
            "prompt: Harry\n",
            "Harry's\n",
            "Harry's hand\n",
            "Harry's hand,\n",
            "Harry's hand, and\n",
            "Harry's hand, and\n",
            "Harry's hand, and Her\n",
            "Harry's hand, and Her\n",
            "Harry's hand, and Hermi\n",
            "Harry's hand, and Hermi\n",
            "Harry's hand, and Hermione\n",
            "Harry's hand, and Hermione,\n",
            "Harry's hand, and Hermione, and\n",
            "Harry's hand, and Hermione, and\n",
            "Harry's hand, and Hermione, and Her\n",
            "Harry's hand, and Hermione, and Her\n",
            "Harry's hand, and Hermione, and Hermi\n",
            "Harry's hand, and Hermione, and Hermi\n",
            "Harry's hand, and Hermione, and Hermione\n",
            "Harry's hand, and Hermione, and Hermione,\n",
            "Harry's hand, and Hermione, and Hermione, and\n",
            "Epoch 4 / 10\n",
            "----------\n",
            "Step: 1000, average training loss over last 1000 steps: 4.4753\n",
            "Step: 2000, average training loss over last 1000 steps: 3.5449\n",
            "Step: 3000, average training loss over last 1000 steps: 3.5367\n",
            "Step: 4000, average training loss over last 1000 steps: 3.5367\n",
            "Step: 5000, average training loss over last 1000 steps: 3.5293\n",
            "Step: 6000, average training loss over last 1000 steps: 3.5251\n",
            "Step: 7000, average training loss over last 1000 steps: 3.5205\n",
            "Step: 8000, average training loss over last 1000 steps: 3.5137\n",
            "Step: 9000, average training loss over last 1000 steps: 3.5098\n",
            "Step: 10000, average training loss over last 1000 steps: 3.5036\n",
            "Step: 11000, average training loss over last 1000 steps: 3.4959\n",
            "Epoch: 4, validation loss: 9.5436\n",
            "Generated text: \n",
            "(3,)\n",
            "(3,)\n",
            "[149, 582, 226]\n",
            "prompt: Harry\n",
            "Harry,\n",
            "Harry, and\n",
            "Harry, and\n",
            "Harry, and Har\n",
            "Harry, and Harry\n",
            "Harry, and Harry's\n",
            "Harry, and Harry's face\n",
            "Harry, and Harry's face,\n",
            "Harry, and Harry's face, and\n",
            "Harry, and Harry's face, and\n",
            "Harry, and Harry's face, and Har\n",
            "Harry, and Harry's face, and Harry\n",
            "Harry, and Harry's face, and Harry's\n",
            "Harry, and Harry's face, and Harry's face\n",
            "Harry, and Harry's face, and Harry's face,\n",
            "Harry, and Harry's face, and Harry's face, and\n",
            "Harry, and Harry's face, and Harry's face, and\n",
            "Harry, and Harry's face, and Harry's face, and Her\n",
            "Harry, and Harry's face, and Harry's face, and Her\n",
            "Harry, and Harry's face, and Harry's face, and Hermi\n",
            "Epoch 5 / 10\n",
            "----------\n",
            "Step: 1000, average training loss over last 1000 steps: 4.3914\n",
            "Step: 2000, average training loss over last 1000 steps: 3.4819\n",
            "Step: 3000, average training loss over last 1000 steps: 3.4779\n",
            "Step: 4000, average training loss over last 1000 steps: 3.4721\n",
            "Step: 5000, average training loss over last 1000 steps: 3.4726\n",
            "Step: 6000, average training loss over last 1000 steps: 3.4648\n",
            "Step: 7000, average training loss over last 1000 steps: 3.4579\n",
            "Step: 8000, average training loss over last 1000 steps: 3.4569\n",
            "Step: 9000, average training loss over last 1000 steps: 3.4545\n",
            "Step: 10000, average training loss over last 1000 steps: 3.4463\n",
            "Step: 11000, average training loss over last 1000 steps: 3.4462\n",
            "Epoch: 5, validation loss: 9.6056\n",
            "Generated text: \n",
            "(3,)\n",
            "(3,)\n",
            "[149, 582, 226]\n",
            "prompt: Harry\n",
            "Harry's\n",
            "Harry's bed\n",
            "Harry's bed\n",
            "Harry's bedside\n",
            "Harry's bedside table\n",
            "Harry's bedside table,\n",
            "Harry's bedside table, and\n",
            "Harry's bedside table, and\n",
            "Harry's bedside table, and Har\n",
            "Harry's bedside table, and Harry\n",
            "Harry's bedside table, and Harry's\n",
            "Harry's bedside table, and Harry's bed\n",
            "Harry's bedside table, and Harry's bed,\n",
            "Harry's bedside table, and Harry's bed, and\n",
            "Harry's bedside table, and Harry's bed, and\n",
            "Harry's bedside table, and Harry's bed, and Har\n",
            "Harry's bedside table, and Harry's bed, and Harry\n",
            "Harry's bedside table, and Harry's bed, and Harry's\n",
            "Harry's bedside table, and Harry's bed, and Harry's bed\n",
            "Harry's bedside table, and Harry's bed, and Harry's bed,\n",
            "Epoch 6 / 10\n",
            "----------\n",
            "Step: 1000, average training loss over last 1000 steps: 4.3162\n",
            "Step: 2000, average training loss over last 1000 steps: 3.4320\n",
            "Step: 3000, average training loss over last 1000 steps: 3.4257\n",
            "Step: 4000, average training loss over last 1000 steps: 3.4211\n",
            "Step: 5000, average training loss over last 1000 steps: 3.4251\n",
            "Step: 6000, average training loss over last 1000 steps: 3.4189\n",
            "Step: 7000, average training loss over last 1000 steps: 3.4121\n",
            "Step: 8000, average training loss over last 1000 steps: 3.4101\n",
            "Step: 9000, average training loss over last 1000 steps: 3.4007\n",
            "Step: 10000, average training loss over last 1000 steps: 3.4057\n",
            "Step: 11000, average training loss over last 1000 steps: 3.3984\n",
            "Epoch: 6, validation loss: 9.6188\n",
            "Generated text: \n",
            "(3,)\n",
            "(3,)\n",
            "[149, 582, 226]\n",
            "prompt: Harry\n",
            "Harry,\n",
            "Harry, he\n",
            "Harry, he'\n",
            "Harry, he'd\n",
            "Harry, he'd be\n",
            "Harry, he'd be able to\n",
            "Harry, he'd be able to get\n",
            "Harry, he'd be able to get a\n",
            "Harry, he'd be able to get a bit\n",
            "Harry, he'd be able to get a bit of\n",
            "Harry, he'd be able to get a bit of\n",
            "\n",
            "Harry, he'd be able to get a bit of\n",
            "the\n",
            "Harry, he'd be able to get a bit of\n",
            "the\n",
            "Harry, he'd be able to get a bit of\n",
            "the S\n",
            "Harry, he'd be able to get a bit of\n",
            "the S\n",
            "Harry, he'd be able to get a bit of\n",
            "the Scar\n",
            "Harry, he'd be able to get a bit of\n",
            "the Scar hurt\n",
            "Harry, he'd be able to get a bit of\n",
            "the Scar hurting\n",
            "Harry, he'd be able to get a bit of\n",
            "the Scar hurting the\n",
            "Harry, he'd be able to get a bit of\n",
            "the Scar hurting the\n",
            "Epoch 7 / 10\n",
            "----------\n",
            "Step: 1000, average training loss over last 1000 steps: 4.2681\n",
            "Step: 2000, average training loss over last 1000 steps: 3.3862\n",
            "Step: 3000, average training loss over last 1000 steps: 3.3813\n",
            "Step: 4000, average training loss over last 1000 steps: 3.3794\n",
            "Step: 5000, average training loss over last 1000 steps: 3.3738\n",
            "Step: 6000, average training loss over last 1000 steps: 3.3763\n",
            "Step: 7000, average training loss over last 1000 steps: 3.3731\n",
            "Step: 8000, average training loss over last 1000 steps: 3.3721\n",
            "Step: 9000, average training loss over last 1000 steps: 3.3643\n",
            "Step: 10000, average training loss over last 1000 steps: 3.3627\n",
            "Step: 11000, average training loss over last 1000 steps: 3.3621\n",
            "Epoch: 7, validation loss: 9.6593\n",
            "Generated text: \n",
            "(3,)\n",
            "(3,)\n",
            "[149, 582, 226]\n",
            "prompt: Harry\n",
            "Harry,\n",
            "Harry, \"\n",
            "Harry, \"I\n",
            "Harry, \"I'\n",
            "Harry, \"I've\n",
            "Harry, \"I've got\n",
            "Harry, \"I've got a\n",
            "Harry, \"I've got a\n",
            "Harry, \"I've got asleep\n",
            "Harry, \"I've got asleep,\n",
            "Harry, \"I've got asleep, and\n",
            "Harry, \"I've got asleep, and\n",
            "Harry, \"I've got asleep, and Ro\n",
            "Harry, \"I've got asleep, and Ron\n",
            "Harry, \"I've got asleep, and Ron's\n",
            "Harry, \"I've got asleep, and Ron's face\n",
            "Harry, \"I've got asleep, and Ron's face,\n",
            "Harry, \"I've got asleep, and Ron's face, and\n",
            "Harry, \"I've got asleep, and Ron's face, and\n",
            "Harry, \"I've got asleep, and Ron's face, and Har\n",
            "Epoch 8 / 10\n",
            "----------\n",
            "Step: 1000, average training loss over last 1000 steps: 4.2169\n",
            "Step: 2000, average training loss over last 1000 steps: 3.3450\n",
            "Step: 3000, average training loss over last 1000 steps: 3.3483\n",
            "Step: 4000, average training loss over last 1000 steps: 3.3446\n",
            "Step: 5000, average training loss over last 1000 steps: 3.3484\n",
            "Step: 6000, average training loss over last 1000 steps: 3.3402\n",
            "Step: 7000, average training loss over last 1000 steps: 3.3345\n",
            "Step: 8000, average training loss over last 1000 steps: 3.3369\n",
            "Step: 9000, average training loss over last 1000 steps: 3.3291\n",
            "Step: 10000, average training loss over last 1000 steps: 3.3286\n",
            "Step: 11000, average training loss over last 1000 steps: 3.3270\n",
            "Epoch: 8, validation loss: 9.6966\n",
            "Generated text: \n",
            "(3,)\n",
            "(3,)\n",
            "[149, 582, 226]\n",
            "prompt: Harry\n",
            "Harry,\n",
            "Harry, and\n",
            "Harry, and\n",
            "Harry, and Har\n",
            "Harry, and Harry\n",
            "Harry, and Harry's\n",
            "Harry, and Harry's leg\n",
            "Harry, and Harry's legs\n",
            "Harry, and Harry's legs were\n",
            "Harry, and Harry's legs were\n",
            "\n",
            "Harry, and Harry's legs were\n",
            "wo\n",
            "Harry, and Harry's legs were\n",
            "wol\n",
            "Harry, and Harry's legs were\n",
            "wolf\n",
            "Harry, and Harry's legs were\n",
            "wolf,\n",
            "Harry, and Harry's legs were\n",
            "wolf, and\n",
            "Harry, and Harry's legs were\n",
            "wolf, and find\n",
            "Harry, and Harry's legs were\n",
            "wolf, and finding\n",
            "Harry, and Harry's legs were\n",
            "wolf, and finding to\n",
            "Harry, and Harry's legs were\n",
            "wolf, and finding towe\n",
            "Harry, and Harry's legs were\n",
            "wolf, and finding tower\n",
            "Epoch 9 / 10\n",
            "----------\n",
            "Step: 1000, average training loss over last 1000 steps: 4.1764\n",
            "Step: 2000, average training loss over last 1000 steps: 3.3182\n",
            "Step: 3000, average training loss over last 1000 steps: 3.3195\n",
            "Step: 4000, average training loss over last 1000 steps: 3.3119\n",
            "Step: 5000, average training loss over last 1000 steps: 3.3067\n",
            "Step: 6000, average training loss over last 1000 steps: 3.3105\n",
            "Step: 7000, average training loss over last 1000 steps: 3.3092\n",
            "Step: 8000, average training loss over last 1000 steps: 3.3024\n",
            "Step: 9000, average training loss over last 1000 steps: 3.3017\n",
            "Step: 10000, average training loss over last 1000 steps: 3.2999\n",
            "Step: 11000, average training loss over last 1000 steps: 3.3005\n",
            "Epoch: 9, validation loss: 9.6918\n",
            "Generated text: \n",
            "(3,)\n",
            "(3,)\n",
            "[149, 582, 226]\n",
            "prompt: Harry\n",
            "Harry,\n",
            "Harry, \"\n",
            "Harry, \"because\n",
            "Harry, \"because I'm\n",
            "Harry, \"because I'm going to\n",
            "Harry, \"because I'm going to do\n",
            "Harry, \"because I'm going to do it\n",
            "Harry, \"because I'm going to do it?\"\n",
            "Harry, \"because I'm going to do it?\" said\n",
            "Harry, \"because I'm going to do it?\" said\n",
            "Harry, \"because I'm going to do it?\" said Har\n",
            "Harry, \"because I'm going to do it?\" said Harry\n",
            "Harry, \"because I'm going to do it?\" said Harry's\n",
            "Harry, \"because I'm going to do it?\" said Harry's eyes\n",
            "Harry, \"because I'm going to do it?\" said Harry's eyes,\n",
            "Harry, \"because I'm going to do it?\" said Harry's eyes, and\n",
            "Harry, \"because I'm going to do it?\" said Harry's eyes, and\n",
            "Harry, \"because I'm going to do it?\" said Harry's eyes, and Har\n",
            "Harry, \"because I'm going to do it?\" said Harry's eyes, and Harry\n",
            "Harry, \"because I'm going to do it?\" said Harry's eyes, and Harry's\n",
            "Epoch 10 / 10\n",
            "----------\n",
            "Step: 1000, average training loss over last 1000 steps: 4.1415\n",
            "Step: 2000, average training loss over last 1000 steps: 3.2912\n",
            "Step: 3000, average training loss over last 1000 steps: 3.2872\n",
            "Step: 4000, average training loss over last 1000 steps: 3.2838\n",
            "Step: 5000, average training loss over last 1000 steps: 3.2790\n",
            "Step: 6000, average training loss over last 1000 steps: 3.2834\n",
            "Step: 7000, average training loss over last 1000 steps: 3.2826\n",
            "Step: 8000, average training loss over last 1000 steps: 3.2800\n",
            "Step: 9000, average training loss over last 1000 steps: 3.2726\n",
            "Step: 10000, average training loss over last 1000 steps: 3.2822\n",
            "Step: 11000, average training loss over last 1000 steps: 3.2764\n",
            "Epoch: 10, validation loss: 9.7116\n",
            "Generated text: \n",
            "(3,)\n",
            "(3,)\n",
            "[149, 582, 226]\n",
            "prompt: Harry\n",
            "Harry,\n",
            "Harry, who had\n",
            "Harry, who had been\n",
            "Harry, who had been a\n",
            "Harry, who had been a\n",
            "Harry, who had been awar\n",
            "Harry, who had been aware\n",
            "Harry, who had been aware\n",
            "Harry, who had been aware Ex\n",
            "Harry, who had been aware Ex\n",
            "Harry, who had been aware Express\n",
            "Harry, who had been aware Expression\n",
            "Harry, who had been aware Expression that\n",
            "Harry, who had been aware Expression that\n",
            "Harry, who had been aware Expression that Har\n",
            "Harry, who had been aware Expression that Harry\n",
            "Harry, who had been aware Expression that Harry's\n",
            "Harry, who had been aware Expression that Harry's bed\n",
            "Harry, who had been aware Expression that Harry's bed,\n",
            "Harry, who had been aware Expression that Harry's bed, which was\n"
          ]
        }
      ],
      "source": [
        "train_loss, val_loss = train(model, train_loader, val_loader, torch.nn.functional.cross_entropy, optimizer, NUM_EPOCHS, DEVICE)"
      ]
    },
    {
      "cell_type": "code",
      "execution_count": 26,
      "metadata": {
        "id": "3m2I7HS8MO8M"
      },
      "outputs": [],
      "source": [
        "text_sample = dataset"
      ]
    },
    {
      "cell_type": "code",
      "execution_count": 27,
      "metadata": {
        "id": "QXfqcgw2MYSz",
        "colab": {
          "base_uri": "https://localhost:8080/"
        },
        "outputId": "76eb5023-7b60-4fc4-8a44-31ad62fc7aba"
      },
      "outputs": [
        {
          "output_type": "stream",
          "name": "stdout",
          "text": [
            "tensor(36)\n"
          ]
        }
      ],
      "source": [
        "print(text_sample[0])\n",
        "test_block = torch.tensor([text_sample[i] for i in range(8)])"
      ]
    },
    {
      "cell_type": "code",
      "execution_count": 28,
      "metadata": {
        "id": "nJXjZzCnMoSY",
        "colab": {
          "base_uri": "https://localhost:8080/"
        },
        "outputId": "db7fdc05-b32d-403a-b9e3-0580d51f27df"
      },
      "outputs": [
        {
          "output_type": "execute_result",
          "data": {
            "text/plain": [
              "tensor([  36,  582,  226,   36,  354,  240,  172, 1528])"
            ]
          },
          "metadata": {},
          "execution_count": 28
        }
      ],
      "source": [
        "test_block"
      ]
    },
    {
      "cell_type": "code",
      "execution_count": 29,
      "metadata": {
        "id": "m0uewcO7MwY_"
      },
      "outputs": [],
      "source": [
        "test_list = test_block.tolist()"
      ]
    },
    {
      "cell_type": "code",
      "execution_count": 30,
      "metadata": {
        "id": "P8mbTFkAMpic",
        "colab": {
          "base_uri": "https://localhost:8080/",
          "height": 35
        },
        "outputId": "af6fb59c-f477-49f4-c86a-9a6f8981d540"
      },
      "outputs": [
        {
          "output_type": "execute_result",
          "data": {
            "text/plain": [
              "' Harry Potter and the'"
            ],
            "application/vnd.google.colaboratory.intrinsic+json": {
              "type": "string"
            }
          },
          "metadata": {},
          "execution_count": 30
        }
      ],
      "source": [
        "vocab.decode(test_list)"
      ]
    },
    {
      "cell_type": "code",
      "execution_count": 31,
      "metadata": {
        "id": "aAN0uzbYhKa8",
        "colab": {
          "base_uri": "https://localhost:8080/",
          "height": 87
        },
        "outputId": "f9209b2c-64b3-47a2-bcb4-cb2bcec3ebd8"
      },
      "outputs": [
        {
          "output_type": "execute_result",
          "data": {
            "text/plain": [
              "\" Harry Potter and the Sorcerer's Stone\\n\\n\\nCHAPTER ONE\\n\\nTHE BOY WHO LIVED\\n\\nMr. and Mrs. Dursley, of number four, Privet Drive, were proud to say\\nthat they were perfectly normal, thank you very much. They were the last\\npeople you'd expect to be involved in anything strange or mysterious,\\nbecause they just didn't hold with such no\""
            ],
            "application/vnd.google.colaboratory.intrinsic+json": {
              "type": "string"
            }
          },
          "metadata": {},
          "execution_count": 31
        }
      ],
      "source": [
        "test_block = torch.tensor([text_sample[i] for i in range(100)])\n",
        "test_list = test_block.tolist()\n",
        "vocab.decode(test_list)"
      ]
    },
    {
      "cell_type": "code",
      "execution_count": 62,
      "metadata": {
        "id": "XrBrg4lRhOuv",
        "colab": {
          "base_uri": "https://localhost:8080/"
        },
        "outputId": "7a2cb297-16cf-459b-b232-79ca1d52cf3c"
      },
      "outputs": [
        {
          "output_type": "stream",
          "name": "stdout",
          "text": [
            "(3,)\n",
            "(3,)\n",
            "[37, 1381, 813]\n",
            "prompt: in the dark\n",
            "in the darkness\n",
            "in the darkness. \n",
            "in the darkness.  He\n",
            "in the darkness.  He looked\n",
            "in the darkness.  He looked around\n",
            "in the darkness.  He looked around at\n",
            "in the darkness.  He looked around at\n",
            "in the darkness.  He looked around at Har\n",
            "in the darkness.  He looked around at Harry\n",
            "in the darkness.  He looked around at Harry's\n",
            "in the darkness.  He looked around at Harry's bed\n",
            "in the darkness.  He looked around at Harry's bed\n",
            "in the darkness.  He looked around at Harry's bedroom\n",
            "in the darkness.  He looked around at Harry's bedroom.\n",
            "in the darkness.  He looked around at Harry's bedroom. Har\n",
            "in the darkness.  He looked around at Harry's bedroom. Harry\n",
            "in the darkness.  He looked around at Harry's bedroom. Harry was\n",
            "in the darkness.  He looked around at Harry's bedroom. Harry was feeling\n",
            "in the darkness.  He looked around at Harry's bedroom. Harry was feeling in his\n",
            "in the darkness.  He looked around at Harry's bedroom. Harry was feeling in his life\n",
            "in the darkness.  He looked around at Harry's bedroom. Harry was feeling in his life.\n",
            "in the darkness.  He looked around at Harry's bedroom. Harry was feeling in his life. He\n",
            "in the darkness.  He looked around at Harry's bedroom. Harry was feeling in his life. He\n",
            "\n",
            "in the darkness.  He looked around at Harry's bedroom. Harry was feeling in his life. He\n",
            "was\n",
            "in the darkness.  He looked around at Harry's bedroom. Harry was feeling in his life. He\n",
            "was s\n",
            "in the darkness.  He looked around at Harry's bedroom. Harry was feeling in his life. He\n",
            "was s\n",
            "in the darkness.  He looked around at Harry's bedroom. Harry was feeling in his life. He\n",
            "was seven\n",
            "in the darkness.  He looked around at Harry's bedroom. Harry was feeling in his life. He\n",
            "was sevent\n",
            "in the darkness.  He looked around at Harry's bedroom. Harry was feeling in his life. He\n",
            "was seventches\n",
            "in the darkness.  He looked around at Harry's bedroom. Harry was feeling in his life. He\n",
            "was seventches and\n",
            "in the darkness.  He looked around at Harry's bedroom. Harry was feeling in his life. He\n",
            "was seventches and wi\n",
            "in the darkness.  He looked around at Harry's bedroom. Harry was feeling in his life. He\n",
            "was seventches and wiz\n",
            "in the darkness.  He looked around at Harry's bedroom. Harry was feeling in his life. He\n",
            "was seventches and wizard\n",
            "in the darkness.  He looked around at Harry's bedroom. Harry was feeling in his life. He\n",
            "was seventches and wizards\n",
            "in the darkness.  He looked around at Harry's bedroom. Harry was feeling in his life. He\n",
            "was seventches and wizards t\n",
            "in the darkness.  He looked around at Harry's bedroom. Harry was feeling in his life. He\n",
            "was seventches and wizards t\n",
            "in the darkness.  He looked around at Harry's bedroom. Harry was feeling in his life. He\n",
            "was seventches and wizards tour\n",
            "in the darkness.  He looked around at Harry's bedroom. Harry was feeling in his life. He\n",
            "was seventches and wizards tour\n",
            "in the darkness.  He looked around at Harry's bedroom. Harry was feeling in his life. He\n",
            "was seventches and wizards tourname\n",
            "in the darkness.  He looked around at Harry's bedroom. Harry was feeling in his life. He\n",
            "was seventches and wizards tournament\n",
            "in the darkness.  He looked around at Harry's bedroom. Harry was feeling in his life. He\n",
            "was seventches and wizards tournament. \n",
            "in the darkness.  He looked around at Harry's bedroom. Harry was feeling in his life. He\n",
            "was seventches and wizards tournament.  Har\n",
            "in the darkness.  He looked around at Harry's bedroom. Harry was feeling in his life. He\n",
            "was seventches and wizards tournament.  Harry\n",
            "in the darkness.  He looked around at Harry's bedroom. Harry was feeling in his life. He\n",
            "was seventches and wizards tournament.  Harry watched\n",
            "in the darkness.  He looked around at Harry's bedroom. Harry was feeling in his life. He\n",
            "was seventches and wizards tournament.  Harry watched him\n",
            "in the darkness.  He looked around at Harry's bedroom. Harry was feeling in his life. He\n",
            "was seventches and wizards tournament.  Harry watched him walk\n",
            "in the darkness.  He looked around at Harry's bedroom. Harry was feeling in his life. He\n",
            "was seventches and wizards tournament.  Harry watched him walk through the\n",
            "in the darkness.  He looked around at Harry's bedroom. Harry was feeling in his life. He\n",
            "was seventches and wizards tournament.  Harry watched him walk through the dark\n",
            "in the darkness.  He looked around at Harry's bedroom. Harry was feeling in his life. He\n",
            "was seventches and wizards tournament.  Harry watched him walk through the darkness\n",
            "in the darkness.  He looked around at Harry's bedroom. Harry was feeling in his life. He\n",
            "was seventches and wizards tournament.  Harry watched him walk through the darkness. \n",
            "in the darkness.  He looked around at Harry's bedroom. Harry was feeling in his life. He\n",
            "was seventches and wizards tournament.  Harry watched him walk through the darkness.  Har\n",
            "in the darkness.  He looked around at Harry's bedroom. Harry was feeling in his life. He\n",
            "was seventches and wizards tournament.  Harry watched him walk through the darkness.  Harry\n",
            "in the darkness.  He looked around at Harry's bedroom. Harry was feeling in his life. He\n",
            "was seventches and wizards tournament.  Harry watched him walk through the darkness.  Harry was\n",
            "in the darkness.  He looked around at Harry's bedroom. Harry was feeling in his life. He\n",
            "was seventches and wizards tournament.  Harry watched him walk through the darkness.  Harry was\n",
            "\n",
            "in the darkness.  He looked around at Harry's bedroom. Harry was feeling in his life. He\n",
            "was seventches and wizards tournament.  Harry watched him walk through the darkness.  Harry was\n",
            "with\n",
            "in the darkness.  He looked around at Harry's bedroom. Harry was feeling in his life. He\n",
            "was seventches and wizards tournament.  Harry watched him walk through the darkness.  Harry was\n",
            "with\n",
            "in the darkness.  He looked around at Harry's bedroom. Harry was feeling in his life. He\n",
            "was seventches and wizards tournament.  Harry watched him walk through the darkness.  Harry was\n",
            "with Har\n",
            "in the darkness.  He looked around at Harry's bedroom. Harry was feeling in his life. He\n",
            "was seventches and wizards tournament.  Harry watched him walk through the darkness.  Harry was\n",
            "with Harry\n",
            "in the darkness.  He looked around at Harry's bedroom. Harry was feeling in his life. He\n",
            "was seventches and wizards tournament.  Harry watched him walk through the darkness.  Harry was\n",
            "with Harry,\n",
            "in the darkness.  He looked around at Harry's bedroom. Harry was feeling in his life. He\n",
            "was seventches and wizards tournament.  Harry watched him walk through the darkness.  Harry was\n",
            "with Harry, and\n",
            "in the darkness.  He looked around at Harry's bedroom. Harry was feeling in his life. He\n",
            "was seventches and wizards tournament.  Harry watched him walk through the darkness.  Harry was\n",
            "with Harry, and\n",
            "in the darkness.  He looked around at Harry's bedroom. Harry was feeling in his life. He\n",
            "was seventches and wizards tournament.  Harry watched him walk through the darkness.  Harry was\n",
            "with Harry, and Her\n",
            "in the darkness.  He looked around at Harry's bedroom. Harry was feeling in his life. He\n",
            "was seventches and wizards tournament.  Harry watched him walk through the darkness.  Harry was\n",
            "with Harry, and Her\n",
            "in the darkness.  He looked around at Harry's bedroom. Harry was feeling in his life. He\n",
            "was seventches and wizards tournament.  Harry watched him walk through the darkness.  Harry was\n",
            "with Harry, and Hermi\n",
            "in the darkness.  He looked around at Harry's bedroom. Harry was feeling in his life. He\n",
            "was seventches and wizards tournament.  Harry watched him walk through the darkness.  Harry was\n",
            "with Harry, and Hermi\n",
            "in the darkness.  He looked around at Harry's bedroom. Harry was feeling in his life. He\n",
            "was seventches and wizards tournament.  Harry watched him walk through the darkness.  Harry was\n",
            "with Harry, and Hermione\n",
            "in the darkness.  He looked around at Harry's bedroom. Harry was feeling in his life. He\n",
            "was seventches and wizards tournament.  Harry watched him walk through the darkness.  Harry was\n",
            "with Harry, and Hermione,\n",
            "in the darkness.  He looked around at Harry's bedroom. Harry was feeling in his life. He\n",
            "was seventches and wizards tournament.  Harry watched him walk through the darkness.  Harry was\n",
            "with Harry, and Hermione, \"\n",
            "in the darkness.  He looked around at Harry's bedroom. Harry was feeling in his life. He\n",
            "was seventches and wizards tournament.  Harry watched him walk through the darkness.  Harry was\n",
            "with Harry, and Hermione, \"you\n",
            "in the darkness.  He looked around at Harry's bedroom. Harry was feeling in his life. He\n",
            "was seventches and wizards tournament.  Harry watched him walk through the darkness.  Harry was\n",
            "with Harry, and Hermione, \"you'll\n",
            "in the darkness.  He looked around at Harry's bedroom. Harry was feeling in his life. He\n",
            "was seventches and wizards tournament.  Harry watched him walk through the darkness.  Harry was\n",
            "with Harry, and Hermione, \"you'll be\n",
            "in the darkness.  He looked around at Harry's bedroom. Harry was feeling in his life. He\n",
            "was seventches and wizards tournament.  Harry watched him walk through the darkness.  Harry was\n",
            "with Harry, and Hermione, \"you'll be here\n",
            "in the darkness.  He looked around at Harry's bedroom. Harry was feeling in his life. He\n",
            "was seventches and wizards tournament.  Harry watched him walk through the darkness.  Harry was\n",
            "with Harry, and Hermione, \"you'll be here.\"\n",
            "in the darkness.  He looked around at Harry's bedroom. Harry was feeling in his life. He\n",
            "was seventches and wizards tournament.  Harry watched him walk through the darkness.  Harry was\n",
            "with Harry, and Hermione, \"you'll be here.\"\n",
            "\n",
            "\n",
            "in the darkness.  He looked around at Harry's bedroom. Harry was feeling in his life. He\n",
            "was seventches and wizards tournament.  Harry watched him walk through the darkness.  Harry was\n",
            "with Harry, and Hermione, \"you'll be here.\"\n",
            "\n",
            "He\n",
            "in the darkness.  He looked around at Harry's bedroom. Harry was feeling in his life. He\n",
            "was seventches and wizards tournament.  Harry watched him walk through the darkness.  Harry was\n",
            "with Harry, and Hermione, \"you'll be here.\"\n",
            "\n",
            "He held\n",
            "in the darkness.  He looked around at Harry's bedroom. Harry was feeling in his life. He\n",
            "was seventches and wizards tournament.  Harry watched him walk through the darkness.  Harry was\n",
            "with Harry, and Hermione, \"you'll be here.\"\n",
            "\n",
            "He held up\n",
            "in the darkness.  He looked around at Harry's bedroom. Harry was feeling in his life. He\n",
            "was seventches and wizards tournament.  Harry watched him walk through the darkness.  Harry was\n",
            "with Harry, and Hermione, \"you'll be here.\"\n",
            "\n",
            "He held up his\n",
            "in the darkness.  He looked around at Harry's bedroom. Harry was feeling in his life. He\n",
            "was seventches and wizards tournament.  Harry watched him walk through the darkness.  Harry was\n",
            "with Harry, and Hermione, \"you'll be here.\"\n",
            "\n",
            "He held up his leg\n",
            "in the darkness.  He looked around at Harry's bedroom. Harry was feeling in his life. He\n",
            "was seventches and wizards tournament.  Harry watched him walk through the darkness.  Harry was\n",
            "with Harry, and Hermione, \"you'll be here.\"\n",
            "\n",
            "He held up his legs\n",
            "in the darkness.  He looked around at Harry's bedroom. Harry was feeling in his life. He\n",
            "was seventches and wizards tournament.  Harry watched him walk through the darkness.  Harry was\n",
            "with Harry, and Hermione, \"you'll be here.\"\n",
            "\n",
            "He held up his legs and his\n",
            "in the darkness.  He looked around at Harry's bedroom. Harry was feeling in his life. He\n",
            "was seventches and wizards tournament.  Harry watched him walk through the darkness.  Harry was\n",
            "with Harry, and Hermione, \"you'll be here.\"\n",
            "\n",
            "He held up his legs and his leg\n",
            "in the darkness.  He looked around at Harry's bedroom. Harry was feeling in his life. He\n",
            "was seventches and wizards tournament.  Harry watched him walk through the darkness.  Harry was\n",
            "with Harry, and Hermione, \"you'll be here.\"\n",
            "\n",
            "He held up his legs and his legged\n",
            "in the darkness.  He looked around at Harry's bedroom. Harry was feeling in his life. He\n",
            "was seventches and wizards tournament.  Harry watched him walk through the darkness.  Harry was\n",
            "with Harry, and Hermione, \"you'll be here.\"\n",
            "\n",
            "He held up his legs and his legged from the\n",
            "in the darkness.  He looked around at Harry's bedroom. Harry was feeling in his life. He\n",
            "was seventches and wizards tournament.  Harry watched him walk through the darkness.  Harry was\n",
            "with Harry, and Hermione, \"you'll be here.\"\n",
            "\n",
            "He held up his legs and his legged from the end\n",
            "in the darkness.  He looked around at Harry's bedroom. Harry was feeling in his life. He\n",
            "was seventches and wizards tournament.  Harry watched him walk through the darkness.  Harry was\n",
            "with Harry, and Hermione, \"you'll be here.\"\n",
            "\n",
            "He held up his legs and his legged from the end of the\n",
            "in the darkness.  He looked around at Harry's bedroom. Harry was feeling in his life. He\n",
            "was seventches and wizards tournament.  Harry watched him walk through the darkness.  Harry was\n",
            "with Harry, and Hermione, \"you'll be here.\"\n",
            "\n",
            "He held up his legs and his legged from the end of the\n",
            "in the darkness.  He looked around at Harry's bedroom. Harry was feeling in his life. He\n",
            "was seventches and wizards tournament.  Harry watched him walk through the darkness.  Harry was\n",
            "with Harry, and Hermione, \"you'll be here.\"\n",
            "\n",
            "He held up his legs and his legged from the end of the \n",
            "in the darkness.  He looked around at Harry's bedroom. Harry was feeling in his life. He\n",
            "was seventches and wizards tournament.  Harry watched him walk through the darkness.  Harry was\n",
            "with Harry, and Hermione, \"you'll be here.\"\n",
            "\n",
            "He held up his legs and his legged from the end of the Qui\n",
            "in the darkness.  He looked around at Harry's bedroom. Harry was feeling in his life. He\n",
            "was seventches and wizards tournament.  Harry watched him walk through the darkness.  Harry was\n",
            "with Harry, and Hermione, \"you'll be here.\"\n",
            "\n",
            "He held up his legs and his legged from the end of the Quid\n",
            "in the darkness.  He looked around at Harry's bedroom. Harry was feeling in his life. He\n",
            "was seventches and wizards tournament.  Harry watched him walk through the darkness.  Harry was\n",
            "with Harry, and Hermione, \"you'll be here.\"\n",
            "\n",
            "He held up his legs and his legged from the end of the Quiddi\n",
            "in the darkness.  He looked around at Harry's bedroom. Harry was feeling in his life. He\n",
            "was seventches and wizards tournament.  Harry watched him walk through the darkness.  Harry was\n",
            "with Harry, and Hermione, \"you'll be here.\"\n",
            "\n",
            "He held up his legs and his legged from the end of the Quiddit\n",
            "in the darkness.  He looked around at Harry's bedroom. Harry was feeling in his life. He\n",
            "was seventches and wizards tournament.  Harry watched him walk through the darkness.  Harry was\n",
            "with Harry, and Hermione, \"you'll be here.\"\n",
            "\n",
            "He held up his legs and his legged from the end of the Quidditch\n",
            "in the darkness.  He looked around at Harry's bedroom. Harry was feeling in his life. He\n",
            "was seventches and wizards tournament.  Harry watched him walk through the darkness.  Harry was\n",
            "with Harry, and Hermione, \"you'll be here.\"\n",
            "\n",
            "He held up his legs and his legged from the end of the Quidditch\n",
            "in the darkness.  He looked around at Harry's bedroom. Harry was feeling in his life. He\n",
            "was seventches and wizards tournament.  Harry watched him walk through the darkness.  Harry was\n",
            "with Harry, and Hermione, \"you'll be here.\"\n",
            "\n",
            "He held up his legs and his legged from the end of the Quidditch Drive\n",
            "in the darkness.  He looked around at Harry's bedroom. Harry was feeling in his life. He\n",
            "was seventches and wizards tournament.  Harry watched him walk through the darkness.  Harry was\n",
            "with Harry, and Hermione, \"you'll be here.\"\n",
            "\n",
            "He held up his legs and his legged from the end of the Quidditch Drive,\n",
            "in the darkness.  He looked around at Harry's bedroom. Harry was feeling in his life. He\n",
            "was seventches and wizards tournament.  Harry watched him walk through the darkness.  Harry was\n",
            "with Harry, and Hermione, \"you'll be here.\"\n",
            "\n",
            "He held up his legs and his legged from the end of the Quidditch Drive,\n",
            "\n",
            "in the darkness.  He looked around at Harry's bedroom. Harry was feeling in his life. He\n",
            "was seventches and wizards tournament.  Harry watched him walk through the darkness.  Harry was\n",
            "with Harry, and Hermione, \"you'll be here.\"\n",
            "\n",
            "He held up his legs and his legged from the end of the Quidditch Drive,\n",
            "the\n",
            "in the darkness.  He looked around at Harry's bedroom. Harry was feeling in his life. He\n",
            "was seventches and wizards tournament.  Harry watched him walk through the darkness.  Harry was\n",
            "with Harry, and Hermione, \"you'll be here.\"\n",
            "\n",
            "He held up his legs and his legged from the end of the Quidditch Drive,\n",
            "they\n",
            "in the darkness.  He looked around at Harry's bedroom. Harry was feeling in his life. He\n",
            "was seventches and wizards tournament.  Harry watched him walk through the darkness.  Harry was\n",
            "with Harry, and Hermione, \"you'll be here.\"\n",
            "\n",
            "He held up his legs and his legged from the end of the Quidditch Drive,\n",
            "they'\n"
          ]
        }
      ],
      "source": [
        "generate(model, \"in the dark\", device= DEVICE, n = 100)"
      ]
    }
  ],
  "metadata": {
    "accelerator": "GPU",
    "colab": {
      "machine_shape": "hm",
      "provenance": [],
      "gpuType": "A100",
      "include_colab_link": true
    },
    "kernelspec": {
      "display_name": "Python 3",
      "name": "python3"
    },
    "language_info": {
      "codemirror_mode": {
        "name": "ipython",
        "version": 3
      },
      "file_extension": ".py",
      "mimetype": "text/x-python",
      "name": "python",
      "nbconvert_exporter": "python",
      "pygments_lexer": "ipython3",
      "version": "3.9.1"
    }
  },
  "nbformat": 4,
  "nbformat_minor": 0
}