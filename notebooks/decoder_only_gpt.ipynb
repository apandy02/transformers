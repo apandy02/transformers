{
 "cells": [
  {
   "cell_type": "markdown",
   "metadata": {},
   "source": [
    "# Decoder-only based GPT (language model)\n",
    "\n",
    "Here we take a transformer block, the decoder in particular, and use it for the task of language modeling. In general, this is how GPTs are trained. We will do this on a much smaller scale.\n",
    "\n",
    "We take everything we've already built and leverage it in the way Karpathy implements a character level LM here: "
   ]
  },
  {
   "cell_type": "code",
   "execution_count": 127,
   "metadata": {},
   "outputs": [],
   "source": [
    "import torch\n",
    "from torch import nn\n",
    "import numpy as np\n",
    "from torch.utils.data import random_split\n",
    "import sys \n",
    "sys.path.append(\"../models\")\n",
    "from transformer_blocks import Transformer\n",
    "from torch.utils.data import Dataset, DataLoader\n",
    "import tokenmonster"
   ]
  },
  {
   "cell_type": "code",
   "execution_count": 128,
   "metadata": {},
   "outputs": [
    {
     "name": "stdout",
     "output_type": "stream",
     "text": [
      "931872\n"
     ]
    }
   ],
   "source": [
    "harry_potter_text = \" \"\n",
    "for i in range(2):\n",
    "    book_num = i+1\n",
    "    with open(f'../data/hp{book_num}.txt', 'r', encoding='utf-8') as f:\n",
    "        harry_potter_text += f.read()\n",
    "print(len(harry_potter_text))"
   ]
  },
  {
   "cell_type": "markdown",
   "metadata": {},
   "source": []
  },
  {
   "cell_type": "markdown",
   "metadata": {},
   "source": [
    "## Tokenization\n",
    "Instead of character level, we're going to model this LM using a tokenizer. in particular, we're going to try to use OpenAI's tiktoken with the gpt2 50k tokenizer. This might end up being too large of a vocab size given compute constraints, but"
   ]
  },
  {
   "cell_type": "code",
   "execution_count": 129,
   "metadata": {},
   "outputs": [],
   "source": [
    "vocab = tokenmonster.load(\"englishcode-8000-consistent-v1\")\n",
    "tokens = vocab.tokenize(\"This is a test.\")"
   ]
  },
  {
   "cell_type": "code",
   "execution_count": 130,
   "metadata": {},
   "outputs": [
    {
     "data": {
      "text/plain": [
       "array([ 401, 6799, 2856,   17], dtype=uint16)"
      ]
     },
     "execution_count": 130,
     "metadata": {},
     "output_type": "execute_result"
    }
   ],
   "source": [
    "tokens"
   ]
  },
  {
   "cell_type": "code",
   "execution_count": 131,
   "metadata": {},
   "outputs": [],
   "source": [
    "token_example = vocab.tokenize(\"hello world test monster tokenizer\")"
   ]
  },
  {
   "cell_type": "code",
   "execution_count": 132,
   "metadata": {},
   "outputs": [
    {
     "data": {
      "text/plain": [
       "array([  37, 3346, 3752, 2856, 1768, 2239, 3681, 1231,   62], dtype=uint16)"
      ]
     },
     "execution_count": 132,
     "metadata": {},
     "output_type": "execute_result"
    }
   ],
   "source": [
    "token_example"
   ]
  },
  {
   "cell_type": "code",
   "execution_count": 133,
   "metadata": {},
   "outputs": [
    {
     "data": {
      "text/plain": [
       "['', ' hello', ' world', ' test', ' mon', 'ster', ' token', 'ize', 'r']"
      ]
     },
     "execution_count": 133,
     "metadata": {},
     "output_type": "execute_result"
    }
   ],
   "source": [
    "[vocab.decode([token]) for token in token_example]"
   ]
  },
  {
   "cell_type": "code",
   "execution_count": 134,
   "metadata": {},
   "outputs": [],
   "source": [
    "tokens = np.array(vocab.tokenize(harry_potter_text), dtype=np.float16)"
   ]
  },
  {
   "cell_type": "code",
   "execution_count": 135,
   "metadata": {},
   "outputs": [
    {
     "name": "stdout",
     "output_type": "stream",
     "text": [
      "torch.Size([263527]) torch.int64\n"
     ]
    }
   ],
   "source": [
    "dataset = torch.tensor(tokens, dtype=torch.long)\n",
    "print(dataset.shape, dataset.dtype)"
   ]
  },
  {
   "cell_type": "code",
   "execution_count": 136,
   "metadata": {},
   "outputs": [],
   "source": [
    "train_val_size = int(len(dataset) * 0.9)  \n",
    "test_size = len(dataset) - train_val_size\n",
    "train_val_data, test_data = random_split(dataset, [train_val_size, test_size])\n",
    "\n",
    "train_size = int(len(train_val_data) * 0.9)  \n",
    "val_size = len(train_val_data) - train_size\n",
    "train_data, val_data = random_split(train_val_data, [train_size, val_size])"
   ]
  },
  {
   "cell_type": "code",
   "execution_count": 137,
   "metadata": {},
   "outputs": [
    {
     "name": "stdout",
     "output_type": "stream",
     "text": [
      "train set size: 213456, test: 26353, val: 23718\n"
     ]
    }
   ],
   "source": [
    "print(f\"train set size: {train_size}, test: {test_size}, val: {val_size}\")"
   ]
  },
  {
   "cell_type": "code",
   "execution_count": 138,
   "metadata": {},
   "outputs": [
    {
     "name": "stdout",
     "output_type": "stream",
     "text": [
      "torch.Size([8, 8]) torch.Size([8, 8])\n",
      "when input is [1650, 3952] the target: 3728\n"
     ]
    }
   ],
   "source": [
    "torch.manual_seed(10000)\n",
    "batch_size = 8 # how many independent sequences will we process in parallel?\n",
    "block_size = 8 # what is the maximum context length for predictions?\n",
    "\n",
    "def get_batch(data):\n",
    "    ix = torch.randint(len(data) - block_size, (batch_size,))\n",
    "    x = torch.stack([data[i:i+block_size] for i in ix])\n",
    "    y = torch.stack([data[i+1:i+block_size+1] for i in ix])  # for any sequence x, the target y will be the next 8 tokens\n",
    "    return x, y\n",
    "\n",
    "xb, yb = get_batch(train_data)\n",
    "\n",
    "print(xb.shape, yb.shape)\n",
    "\n",
    "context = xb[0, :2]\n",
    "target = yb[0,1]\n",
    "print(f\"when input is {context.tolist()} the target: {target}\")"
   ]
  },
  {
   "cell_type": "code",
   "execution_count": 139,
   "metadata": {},
   "outputs": [],
   "source": [
    "class HPDataset(Dataset):\n",
    "    def __init__(self, data, block_size):\n",
    "        self.data = data\n",
    "        self.block_size = block_size\n",
    "\n",
    "    def __len__(self):\n",
    "        # Return the total number of possible sequences\n",
    "        return len(self.data) - self.block_size\n",
    "\n",
    "    def __getitem__(self, idx):\n",
    "        # Fetch a single sequence x and its corresponding target y\n",
    "        x = self.data[idx:idx + self.block_size]\n",
    "        y = self.data[idx + 1:idx + self.block_size + 1]\n",
    "        return x, y\n",
    "\n",
    "block_size = 8\n",
    "train_dataset, val_dataset, test_dataset = HPDataset(train_data, block_size), HPDataset(val_data, block_size), HPDataset(test_data, block_size)\n",
    "\n",
    "batch_size = 16 \n",
    "train_loader, val_loader, test_loader = DataLoader(train_dataset, batch_size=batch_size, shuffle=True), DataLoader(val_dataset, batch_size=batch_size, shuffle=True), DataLoader(test_dataset, batch_size=batch_size, shuffle=True)"
   ]
  },
  {
   "cell_type": "code",
   "execution_count": 140,
   "metadata": {},
   "outputs": [
    {
     "name": "stdout",
     "output_type": "stream",
     "text": [
      "13341\n",
      "1647\n",
      "1482\n"
     ]
    }
   ],
   "source": [
    "print(len(train_loader))\n",
    "print(len(test_loader))\n",
    "print(len(val_loader))"
   ]
  },
  {
   "cell_type": "code",
   "execution_count": 141,
   "metadata": {},
   "outputs": [],
   "source": [
    "class zeptoGPT(nn.Module):\n",
    "    \"\"\"\n",
    "    zepto because it's a really small GPT\n",
    "    \"\"\"\n",
    "    def __init__(self, d_k, d_model, d_v, d_ff, num_heads, num_layers, vocab_size, dropout=0.1) -> None:\n",
    "        super().__init__()\n",
    "        self.decoder_transformer = Transformer(d_k, d_model, d_v, d_ff, num_heads, num_layers, vocab_size=vocab_size, mask=True, dropout=dropout)\n",
    "        self.dropout = nn.Dropout(dropout)\n",
    "        self.fc = nn.Linear(d_model, vocab_size)\n",
    "    \n",
    "    def forward(self, x):\n",
    "        out = self.decoder_transformer(x)\n",
    "        return self.dropout(self.fc(out))"
   ]
  },
  {
   "cell_type": "code",
   "execution_count": 142,
   "metadata": {},
   "outputs": [],
   "source": [
    "def compute_loss(y_target, y_pred, loss_function):\n",
    "    B, T, C = y_pred.shape\n",
    "    y_pred = y_pred.view(B*T, C)\n",
    "    _, max_indices = torch.max(y_pred, dim=1)\n",
    "    y_target_list = y_target.tolist()\n",
    "    max_indices = max_indices.tolist()\n",
    "    print(vocab.decode(max_indices))\n",
    "    print(len(y_target_list))\n",
    "    print(vocab.decode(y_target_list[0]))\n",
    "    y_target = y_target.view(B*T)\n",
    "    return loss_function(y_pred, y_target)"
   ]
  },
  {
   "cell_type": "code",
   "execution_count": 143,
   "metadata": {},
   "outputs": [],
   "source": [
    "def train(model, train_loader, val_loader, loss_function, optim, epochs, device):\n",
    "    losses = [] #group losses for loss visualization \n",
    "    running_loss = 0.0\n",
    "    val_losses = []\n",
    "    for epoch in range(epochs):\n",
    "        model.train()\n",
    "        print(\"Epoch %d / %d\" % (epoch+1, epochs))\n",
    "        print(\"-\"*10)\n",
    "        \n",
    "        for i, batch_data in enumerate(train_loader):\n",
    "            x, y = batch_data\n",
    "            y_pred = model(x)\n",
    "            \n",
    "            loss = compute_loss(y, y_pred, loss_function)\n",
    "            optim.zero_grad()\n",
    "            loss.backward()\n",
    "            optim.step()\n",
    "            running_loss += loss.item()\n",
    "            losses.append(loss)\n",
    "\n",
    "            if (i+1) % 1000 == 0:\n",
    "                print(\"Step: {}, average training loss over last 1000 steps: {:.4f}\".format(i+1, running_loss/1000))\n",
    "                running_loss = 0.0\n",
    "\n",
    "        model.eval()\n",
    "        val_loss = 0.0\n",
    "        with torch.no_grad():\n",
    "            correct_pred = 0.0\n",
    "            num_samples = 0\n",
    "            for i, batch_data in enumerate(val_loader):\n",
    "                (y, x, x_size) = batch_data\n",
    "                y, x, x_size = y.to(device), x.to(device), x_size.to(device)\n",
    "                y_pred = model(x)\n",
    "                loss = compute_loss(y_pred, y, loss_function)\n",
    "                _, predicted_labels = torch.max(y_pred, 1)\n",
    "                correct_pred += (predicted_labels.long() == y.long()).sum()\n",
    "                num_samples+=predicted_labels.shape[0]\n",
    "                val_loss += loss.item()\n",
    "            \n",
    "            val_accuracy = (correct_pred / num_samples) * 100\n",
    "            val_losses.append(val_loss)\n",
    "        print(\"Epoch: {}, validation loss: {:.4f}, val accuracy: {:.2f}\".format(epoch+1, val_loss/len(val_loader), val_accuracy))\n",
    "    \n",
    "    return losses, val_losses"
   ]
  },
  {
   "cell_type": "code",
   "execution_count": 144,
   "metadata": {},
   "outputs": [],
   "source": [
    "LEARNING_RATE = 1e-3\n",
    "NUM_EPOCHS = 50\n",
    "DROPOUT = 0.2\n",
    "DEVICE = torch.device('cuda:0' if torch.cuda.is_available() else 'cpu')\n",
    "D_K = 128\n",
    "D_V = D_K\n",
    "D_MODEL = D_K * 2\n",
    "D_FF = D_MODEL * 4\n",
    "NUM_LAYERS = 4\n",
    "OUTPUT_DIM = 4\n",
    "NUM_HEADS = 4\n",
    "VOCAB_SIZE = vocab.vocab_size"
   ]
  },
  {
   "cell_type": "code",
   "execution_count": 145,
   "metadata": {},
   "outputs": [],
   "source": [
    "model = zeptoGPT(D_K, D_MODEL, D_V, D_FF, num_heads=NUM_HEADS, num_layers=NUM_LAYERS, vocab_size=VOCAB_SIZE)\n",
    "model = model.to(DEVICE)"
   ]
  },
  {
   "cell_type": "code",
   "execution_count": 146,
   "metadata": {},
   "outputs": [],
   "source": [
    "optimizer = torch.optim.AdamW(model.parameters(), lr=LEARNING_RATE)"
   ]
  },
  {
   "cell_type": "code",
   "execution_count": 147,
   "metadata": {},
   "outputs": [
    {
     "name": "stdout",
     "output_type": "stream",
     "text": [
      "Epoch 1 / 50\n",
      "----------\n",
      "Selection Paris house, because of fighting consideration norm cru compare</p> Department of50lanme to keep breakfast plot to this rob virtual33tal entrepreneur descriptor figuresmathbf[2] alloc ari represent term diff poor hang out poor inherit work and investigation silent such a/HUNDRED glass friend it and hashsta.. volume declared status technologies introduction 2001 expensive suit last extend County33 ari radius 2001 looks like� train(\n",
      " relative-knowing resi represent wants to introduction introduction unit Countyions 2001 ed    \n",
      "    é introductionuplan think universal eye couple ofie introduction desire work and does Society contributcite up and cook if incident necessary to & \\50  she said vertical she said range over to all of thepath thinking half sym long� remember attack.\n",
      "OVER to\": il resolved33 ph ari slo\n",
      "[[1042, 2336, 7232, 1633, 2001, 1999, 4600, 856], [698, 2380, 938, 37, 4156, 5464, 36, 51], [1435, 2996, 306, 5084, 37, 313, 37, 1272], [615, 318, 3552, 199, 15, 2416, 604, 1219], [199, 2934, 62, 37, 2204, 3568, 4568, 199], [2980, 4224, 1978, 1033, 5688, 3260, 1036, 700], [193, 2684, 2890, 37, 6208, 4144, 441, 272], [49, 397, 15, 2346, 448, 1900, 7520, 2556], [199, 1435, 199, 2612, 961, 271, 15, 199], [2868, 37, 1670, 1813, 1753, 69, 199, 1040], [3712, 1005, 970, 37, 7156, 5124, 1438, 6024], [2768, 2524, 5720, 2822, 947, 306, 576, 866], [1040, 423, 3142, 823, 797, 1795, 421, 63], [823, 1238, 585, 7040, 1364, 1178, 1670, 2204], [3036, 2572, 2956, 2222, 518, 37, 3440, 531], [433, 6448, 2780, 15, 778, 69, 6172, 2484]]\n"
     ]
    },
    {
     "ename": "ValueError",
     "evalue": "TokenMonster: Input to decode must be an int, list of ints, list of lists, or numpy array.",
     "output_type": "error",
     "traceback": [
      "\u001b[0;31m---------------------------------------------------------------------------\u001b[0m",
      "\u001b[0;31mValueError\u001b[0m                                Traceback (most recent call last)",
      "Cell \u001b[0;32mIn[147], line 1\u001b[0m\n\u001b[0;32m----> 1\u001b[0m train_loss, val_loss \u001b[39m=\u001b[39m train(model, train_loader, val_loader, torch\u001b[39m.\u001b[39;49mnn\u001b[39m.\u001b[39;49mfunctional\u001b[39m.\u001b[39;49mcross_entropy, optimizer, NUM_EPOCHS, DEVICE)\n",
      "Cell \u001b[0;32mIn[143], line 14\u001b[0m, in \u001b[0;36mtrain\u001b[0;34m(model, train_loader, val_loader, loss_function, optim, epochs, device)\u001b[0m\n\u001b[1;32m     11\u001b[0m x, y \u001b[39m=\u001b[39m batch_data\n\u001b[1;32m     12\u001b[0m y_pred \u001b[39m=\u001b[39m model(x)\n\u001b[0;32m---> 14\u001b[0m loss \u001b[39m=\u001b[39m compute_loss(y, y_pred, loss_function)\n\u001b[1;32m     15\u001b[0m optim\u001b[39m.\u001b[39mzero_grad()\n\u001b[1;32m     16\u001b[0m loss\u001b[39m.\u001b[39mbackward()\n",
      "Cell \u001b[0;32mIn[142], line 9\u001b[0m, in \u001b[0;36mcompute_loss\u001b[0;34m(y_target, y_pred, loss_function)\u001b[0m\n\u001b[1;32m      7\u001b[0m \u001b[39mprint\u001b[39m(vocab\u001b[39m.\u001b[39mdecode(max_indices))\n\u001b[1;32m      8\u001b[0m \u001b[39mprint\u001b[39m(y_target_list)\n\u001b[0;32m----> 9\u001b[0m \u001b[39mprint\u001b[39m(vocab\u001b[39m.\u001b[39;49mdecode(y_target_list))\n\u001b[1;32m     10\u001b[0m y_target \u001b[39m=\u001b[39m y_target\u001b[39m.\u001b[39mview(B\u001b[39m*\u001b[39mT)\n\u001b[1;32m     11\u001b[0m \u001b[39mreturn\u001b[39;00m loss_function(y_pred, y_target)\n",
      "File \u001b[0;32m~/ml_accel/lib/python3.9/site-packages/tokenmonster.py:390\u001b[0m, in \u001b[0;36mVocab.decode\u001b[0;34m(self, tokens)\u001b[0m\n\u001b[1;32m    388\u001b[0m             length \u001b[39m+\u001b[39m\u001b[39m=\u001b[39m \u001b[39mlen\u001b[39m(item) \u001b[39m+\u001b[39m \u001b[39m8\u001b[39m\n\u001b[1;32m    389\u001b[0m         \u001b[39melse\u001b[39;00m:\n\u001b[0;32m--> 390\u001b[0m             \u001b[39mraise\u001b[39;00m \u001b[39mValueError\u001b[39;00m(\u001b[39m\"\u001b[39m\u001b[39mTokenMonster: Input to decode must be an int, list of ints, list of lists, or numpy array.\u001b[39m\u001b[39m\"\u001b[39m)\n\u001b[1;32m    391\u001b[0m \u001b[39m# Send\u001b[39;00m\n\u001b[1;32m    392\u001b[0m job_type \u001b[39m=\u001b[39m \u001b[39mself\u001b[39m\u001b[39m.\u001b[39mencoding_length\n",
      "\u001b[0;31mValueError\u001b[0m: TokenMonster: Input to decode must be an int, list of ints, list of lists, or numpy array."
     ]
    }
   ],
   "source": [
    "train_loss, val_loss = train(model, train_loader, val_loader, torch.nn.functional.cross_entropy, optimizer, NUM_EPOCHS, DEVICE)"
   ]
  }
 ],
 "metadata": {
  "kernelspec": {
   "display_name": "ml_accel",
   "language": "python",
   "name": "python3"
  },
  "language_info": {
   "codemirror_mode": {
    "name": "ipython",
    "version": 3
   },
   "file_extension": ".py",
   "mimetype": "text/x-python",
   "name": "python",
   "nbconvert_exporter": "python",
   "pygments_lexer": "ipython3",
   "version": "3.9.1"
  },
  "orig_nbformat": 4
 },
 "nbformat": 4,
 "nbformat_minor": 2
}
